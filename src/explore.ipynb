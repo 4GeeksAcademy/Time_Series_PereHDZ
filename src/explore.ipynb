{
    "cells": [
        {
            "cell_type": "markdown",
            "metadata": {},
            "source": [
                "# Explore here"
            ]
        },
        {
            "cell_type": "code",
            "execution_count": 32,
            "metadata": {},
            "outputs": [
                {
                    "data": {
                        "text/html": [
                            "<div>\n",
                            "<style scoped>\n",
                            "    .dataframe tbody tr th:only-of-type {\n",
                            "        vertical-align: middle;\n",
                            "    }\n",
                            "\n",
                            "    .dataframe tbody tr th {\n",
                            "        vertical-align: top;\n",
                            "    }\n",
                            "\n",
                            "    .dataframe thead th {\n",
                            "        text-align: right;\n",
                            "    }\n",
                            "</style>\n",
                            "<table border=\"1\" class=\"dataframe\">\n",
                            "  <thead>\n",
                            "    <tr style=\"text-align: right;\">\n",
                            "      <th></th>\n",
                            "      <th>date</th>\n",
                            "      <th>sales</th>\n",
                            "    </tr>\n",
                            "  </thead>\n",
                            "  <tbody>\n",
                            "    <tr>\n",
                            "      <th>0</th>\n",
                            "      <td>2022-09-03 17:10:08.079328</td>\n",
                            "      <td>55.292157</td>\n",
                            "    </tr>\n",
                            "    <tr>\n",
                            "      <th>1</th>\n",
                            "      <td>2022-09-04 17:10:08.079328</td>\n",
                            "      <td>53.803211</td>\n",
                            "    </tr>\n",
                            "    <tr>\n",
                            "      <th>2</th>\n",
                            "      <td>2022-09-05 17:10:08.079328</td>\n",
                            "      <td>58.141693</td>\n",
                            "    </tr>\n",
                            "    <tr>\n",
                            "      <th>3</th>\n",
                            "      <td>2022-09-06 17:10:08.079328</td>\n",
                            "      <td>64.530899</td>\n",
                            "    </tr>\n",
                            "    <tr>\n",
                            "      <th>4</th>\n",
                            "      <td>2022-09-07 17:10:08.079328</td>\n",
                            "      <td>66.013633</td>\n",
                            "    </tr>\n",
                            "  </tbody>\n",
                            "</table>\n",
                            "</div>"
                        ],
                        "text/plain": [
                            "                         date      sales\n",
                            "0  2022-09-03 17:10:08.079328  55.292157\n",
                            "1  2022-09-04 17:10:08.079328  53.803211\n",
                            "2  2022-09-05 17:10:08.079328  58.141693\n",
                            "3  2022-09-06 17:10:08.079328  64.530899\n",
                            "4  2022-09-07 17:10:08.079328  66.013633"
                        ]
                    },
                    "execution_count": 32,
                    "metadata": {},
                    "output_type": "execute_result"
                }
            ],
            "source": [
                "import pandas as pd\n",
                "import matplotlib.pyplot as plt\n",
                "import numpy as np\n",
                "import statsmodels.api as sm\n",
                "from sklearn.neighbors import KNeighborsRegressor\n",
                "from sklearn.metrics import *\n",
                "\n",
                "url = '/workspaces/Time_Series_PereHDZ/sales.csv'\n",
                "\n",
                "df = pd.read_csv(url, sep=',')\n",
                "\n",
                "df.to_csv('sales.csv', index=False)\n",
                "\n",
                "df.head()"
            ]
        },
        {
            "cell_type": "code",
            "execution_count": 33,
            "metadata": {},
            "outputs": [
                {
                    "data": {
                        "text/plain": [
                            "(366, 2)"
                        ]
                    },
                    "execution_count": 33,
                    "metadata": {},
                    "output_type": "execute_result"
                }
            ],
            "source": [
                "df.shape"
            ]
        },
        {
            "cell_type": "code",
            "execution_count": 34,
            "metadata": {},
            "outputs": [
                {
                    "data": {
                        "text/plain": [
                            "date     0\n",
                            "sales    0\n",
                            "dtype: int64"
                        ]
                    },
                    "execution_count": 34,
                    "metadata": {},
                    "output_type": "execute_result"
                }
            ],
            "source": [
                "#Check for empty spaces\n",
                "df.isna().sum()"
            ]
        },
        {
            "cell_type": "code",
            "execution_count": 35,
            "metadata": {},
            "outputs": [
                {
                    "data": {
                        "text/plain": [
                            "date     366\n",
                            "sales    366\n",
                            "dtype: int64"
                        ]
                    },
                    "execution_count": 35,
                    "metadata": {},
                    "output_type": "execute_result"
                }
            ],
            "source": [
                "#Check for unique entries\n",
                "df.nunique()"
            ]
        },
        {
            "cell_type": "code",
            "execution_count": 36,
            "metadata": {},
            "outputs": [
                {
                    "data": {
                        "text/plain": [
                            "date     datetime64[ns]\n",
                            "sales           float64\n",
                            "dtype: object"
                        ]
                    },
                    "execution_count": 36,
                    "metadata": {},
                    "output_type": "execute_result"
                }
            ],
            "source": [
                "#Check the types of entries\n",
                "df.date = pd.to_datetime(df.date)\n",
                "df.dtypes"
            ]
        },
        {
            "cell_type": "code",
            "execution_count": 37,
            "metadata": {},
            "outputs": [
                {
                    "data": {
                        "text/plain": [
                            "365"
                        ]
                    },
                    "execution_count": 37,
                    "metadata": {},
                    "output_type": "execute_result"
                }
            ],
            "source": [
                "#Check the amount of days. It should be 365 (one less than entries, since it doesn't count the first day)\n",
                "(df.date.max() - df.date.min()).days"
            ]
        },
        {
            "cell_type": "code",
            "execution_count": 38,
            "metadata": {},
            "outputs": [
                {
                    "data": {
                        "text/plain": [
                            "366"
                        ]
                    },
                    "execution_count": 38,
                    "metadata": {},
                    "output_type": "execute_result"
                }
            ],
            "source": [
                "df.date.nunique()"
            ]
        },
        {
            "cell_type": "code",
            "execution_count": 39,
            "metadata": {},
            "outputs": [
                {
                    "data": {
                        "text/plain": [
                            "[<matplotlib.lines.Line2D at 0x7d1325916770>]"
                        ]
                    },
                    "execution_count": 39,
                    "metadata": {},
                    "output_type": "execute_result"
                },
                {
                    "data": {
                        "image/png": "[encoded data removed]",
                        "text/plain": [
                            "<Figure size 640x480 with 1 Axes>"
                        ]
                    },
                    "metadata": {},
                    "output_type": "display_data"
                }
            ],
            "source": [
                "'''The one day difference between both values is the fact that both start and end dates are a unique value, but there are only 365 days\n",
                "in between them.Thus, we can assume that there are no missing dates in our dataset'''\n",
                "\n",
                "plt.plot(df.date, df.sales)"
            ]
        },
        {
            "cell_type": "code",
            "execution_count": null,
            "metadata": {},
            "outputs": [
                {
                    "name": "stdout",
                    "output_type": "stream",
                    "text": [
                        "                            OLS Regression Results                            \n",
                        "==============================================================================\n",
                        "Dep. Variable:                      y   R-squared:                       0.995\n",
                        "Model:                            OLS   Adj. R-squared:                  0.991\n",
                        "Method:                 Least Squares   F-statistic:                     260.4\n",
                        "Date:                Fri, 07 Mar 2025   Prob (F-statistic):           1.02e-25\n",
                        "Time:                        09:46:46   Log-Likelihood:                -111.18\n",
                        "No. Observations:                  47   AIC:                             262.4\n",
                        "Df Residuals:                      27   BIC:                             299.4\n",
                        "Df Model:                          19                                         \n",
                        "Covariance Type:            nonrobust                                         \n",
                        "==============================================================================\n",
                        "                 coef    std err          t      P>|t|      [0.025      0.975]\n",
                        "------------------------------------------------------------------------------\n",
                        "const         37.1644     15.229      2.440      0.022       5.917      68.412\n",
                        "x1             0.1020      0.193      0.528      0.602      -0.294       0.498\n",
                        "x2             0.1480      0.190      0.778      0.443      -0.242       0.538\n",
                        "x3             0.0241      0.189      0.128      0.899      -0.363       0.411\n",
                        "x4            -0.0719      0.188     -0.383      0.705      -0.457       0.313\n",
                        "x5             0.2410      0.188      1.284      0.210      -0.144       0.626\n",
                        "x6             0.0192      0.191      0.101      0.921      -0.373       0.412\n",
                        "x7             0.2616      0.190      1.376      0.180      -0.129       0.652\n",
                        "x8             0.2196      0.186      1.178      0.249      -0.163       0.602\n",
                        "x9             0.0326      0.193      0.168      0.867      -0.364       0.429\n",
                        "x10            0.0681      0.192      0.355      0.725      -0.325       0.461\n",
                        "x11           -0.0931      0.187     -0.499      0.622      -0.476       0.290\n",
                        "x12            0.2284      0.184      1.243      0.224      -0.148       0.605\n",
                        "x13            0.1358      0.194      0.702      0.489      -0.261       0.533\n",
                        "x14            0.0611      0.200      0.305      0.763      -0.349       0.471\n",
                        "x15           -0.1999      0.196     -1.017      0.318      -0.603       0.203\n",
                        "x16           -0.1312      0.197     -0.665      0.511      -0.536       0.273\n",
                        "x17           -0.0781      0.193     -0.404      0.689      -0.475       0.319\n",
                        "x18            0.0735      0.190      0.387      0.701      -0.316       0.462\n",
                        "x19           -0.0265      0.191     -0.138      0.891      -0.419       0.366\n",
                        "==============================================================================\n",
                        "Omnibus:                        1.284   Durbin-Watson:                   1.932\n",
                        "Prob(Omnibus):                  0.526   Jarque-Bera (JB):                1.269\n",
                        "Skew:                          -0.298   Prob(JB):                        0.530\n",
                        "Kurtosis:                       2.459   Cond. No.                     1.85e+04\n",
                        "==============================================================================\n",
                        "\n",
                        "Notes:\n",
                        "[1] Standard Errors assume that the covariance matrix of the errors is correctly specified.\n",
                        "[2] The condition number is large, 1.85e+04. This might indicate that there are\n",
                        "strong multicollinearity or other numerical problems.\n"
                    ]
                }
            ],
            "source": [
                "'''The data shows a clear tendency towards increase through time'''\n",
                "\n",
                "#Data split\n",
                "df_train, df_test = df.iloc[:-300], df.iloc[-300:]\n",
                "\n",
                "n = 4\n",
                "XY_train = np.array([df_train.sales.values[i: i+n] for i in range (len(df_train.sales.values)) if len(df_train.sales.values[i: i+n]) == n])\n",
                "XY_test = np.array([df_test.sales.values[i: i+n] for i in range (len(df_test.sales.values)) if len(df_test.sales.values[i: i+n]) == n])\n",
                "X_train, y_train = XY_train[:, : -1], XY_train[:, -1]\n",
                "X_test, y_test = XY_test[:, : -1], XY_test[:, -1]\n",
                "\n",
                "X_train_const = sm.add_constant(X_train)\n",
                "model = sm.OLS(y_train, X_train_const)\n",
                "\n",
                "results = model.fit()\n",
                "\n",
                "print(results.summary())"
            ]
        },
        {
            "cell_type": "code",
            "execution_count": 41,
            "metadata": {},
            "outputs": [
                {
                    "name": "stdout",
                    "output_type": "stream",
                    "text": [
                        "0.9921575017798508 1.6806438684752882 2.336160338573352\n",
                        "-4.039918550244201 62.01708566083802 423.49535505861223\n"
                    ]
                }
            ],
            "source": [
                "#None of the dates seem to be statistically significant to make predictions\n",
                "model = KNeighborsRegressor().fit(X_train, y_train)\n",
                "y_pred_train = model.predict(X_train)\n",
                "y_pred_test = model.predict(X_test)\n",
                "\n",
                "print(r2_score(y_train, y_pred_train), mean_absolute_percentage_error(y_train, y_pred_train) * 100, mean_absolute_error(y_train, y_pred_train))\n",
                "print(r2_score(y_test, y_pred_test), mean_absolute_percentage_error(y_test, y_pred_test) * 100, mean_absolute_error(y_test, y_pred_test))"
            ]
        }
    ],
    "metadata": {
        "kernelspec": {
            "display_name": "Python 3",
            "language": "python",
            "name": "python3"
        },
        "language_info": {
            "codemirror_mode": {
                "name": "ipython",
                "version": 3
            },
            "file_extension": ".py",
            "mimetype": "text/x-python",
            "name": "python",
            "nbconvert_exporter": "python",
            "pygments_lexer": "ipython3",
            "version": "3.10.12"
        },
        "orig_nbformat": 4
    },
    "nbformat": 4,
    "nbformat_minor": 2
}
